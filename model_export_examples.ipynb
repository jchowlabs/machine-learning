{
  "nbformat": 4,
  "nbformat_minor": 0,
  "metadata": {
    "colab": {
      "provenance": []
    },
    "kernelspec": {
      "name": "python3",
      "display_name": "Python 3"
    },
    "language_info": {
      "name": "python"
    }
  },
  "cells": [
    {
      "cell_type": "code",
      "source": [
        "import pandas as pd\n",
        "import numpy as np\n",
        "from sklearn.model_selection import train_test_split\n",
        "from sklearn.linear_model import LinearRegression\n",
        "import json\n",
        "import pickle\n",
        "\n",
        "print(\"Package importing completed...\")"
      ],
      "metadata": {
        "colab": {
          "base_uri": "https://localhost:8080/"
        },
        "id": "_U7_bDv_VT1R",
        "outputId": "d690cbf5-01e8-4c14-be52-98f4823a0fc0"
      },
      "execution_count": 1,
      "outputs": [
        {
          "output_type": "stream",
          "name": "stdout",
          "text": [
            "Package importing completed...\n"
          ]
        }
      ]
    },
    {
      "cell_type": "code",
      "source": [
        "# Sample dataset loaded to dataframe\n",
        "sample_data = {'ShoeSize': [6, 7, 8, 9, 10, 11, 12, 13], 'Price': [50, 60, 70, 80, 90, 100, 110, 120]}\n",
        "data = pd.DataFrame(sample_data)\n",
        "X = data[['ShoeSize']]\n",
        "y = data['Price']\n",
        "print(\"Data loading completed...\")\n",
        "\n",
        "# Split data into training and validation sets\n",
        "X_train, X_test, y_train, y_test = train_test_split(X, y, test_size=0.2, random_state=3045)\n",
        "print(\"Data split into training and valiation sets...\")\n",
        "\n",
        "# Fit training data to create model\n",
        "model = LinearRegression()\n",
        "model.fit(X_train, y_train)\n",
        "print(\"Model creation completed...\")"
      ],
      "metadata": {
        "colab": {
          "base_uri": "https://localhost:8080/"
        },
        "id": "frMhSMFmVbBs",
        "outputId": "cd81d702-840c-4db1-d193-b93449ae7317"
      },
      "execution_count": 2,
      "outputs": [
        {
          "output_type": "stream",
          "name": "stdout",
          "text": [
            "Data loading completed...\n",
            "Data split into training and valiation sets...\n",
            "Model creation completed...\n"
          ]
        }
      ]
    },
    {
      "cell_type": "code",
      "source": [
        "###############################\n",
        "# Model export to JSON format #\n",
        "###############################\n",
        "model_json = model.coef_.tolist()\n",
        "with open(\"linear_regression_model.json\", \"w\") as json_file:\n",
        "    json.dump(model_json, json_file)\n",
        "\n",
        "print(\"Model export to JSON format completed...\")"
      ],
      "metadata": {
        "colab": {
          "base_uri": "https://localhost:8080/"
        },
        "id": "CmPLL1Q8Xinp",
        "outputId": "2f7c275a-a68b-47b6-d2a6-e6b6e885d804"
      },
      "execution_count": 3,
      "outputs": [
        {
          "output_type": "stream",
          "name": "stdout",
          "text": [
            "Model export to JSON format completed...\n"
          ]
        }
      ]
    },
    {
      "cell_type": "code",
      "source": [
        "###############################\n",
        "# Model export to Pickle file #\n",
        "###############################\n",
        "with open(\"linear_regression_model.pkl\", \"wb\") as pickle_file:\n",
        "    pickle.dump(model, pickle_file)\n",
        "\n",
        "print(\"Model export to Pickle file completed...\")"
      ],
      "metadata": {
        "colab": {
          "base_uri": "https://localhost:8080/"
        },
        "id": "34eURqdaX81R",
        "outputId": "dc09173e-2a61-4ac0-e023-22765dd7204d"
      },
      "execution_count": 4,
      "outputs": [
        {
          "output_type": "stream",
          "name": "stdout",
          "text": [
            "Model export to Pickle file completed...\n"
          ]
        }
      ]
    },
    {
      "cell_type": "code",
      "source": [
        "# Parameterizes function with model and shoe size for prediction\n",
        "def test_model(size, model_choice):\n",
        "\n",
        "    # JSON model\n",
        "    if model_choice == 1:\n",
        "        with open(\"linear_regression_model.json\", \"r\") as json_file:\n",
        "            model_json = json.load(json_file)\n",
        "        coef = np.array(model_json)\n",
        "\n",
        "    # Pickle model\n",
        "    elif model_choice == 2:\n",
        "        with open(\"linear_regression_model.pkl\", \"rb\") as pickle_file:\n",
        "            model = pickle.load(pickle_file)\n",
        "        coef = model.coef_\n",
        "\n",
        "    price = coef * size\n",
        "    return price[0]\n",
        "\n",
        "print(\"Function initialization completed...\")"
      ],
      "metadata": {
        "colab": {
          "base_uri": "https://localhost:8080/"
        },
        "id": "5ge8o0Ji46m6",
        "outputId": "c69ba2de-9ade-4951-e311-08c253b8cbc8"
      },
      "execution_count": 5,
      "outputs": [
        {
          "output_type": "stream",
          "name": "stdout",
          "text": [
            "Function initialization completed...\n"
          ]
        }
      ]
    },
    {
      "cell_type": "code",
      "source": [
        "def main():\n",
        "\n",
        "  # Run program\n",
        "  while True:\n",
        "      choice = input(\"Run program? (Y/N): \").strip().lower()\n",
        "      if choice == 'n':\n",
        "          break\n",
        "      elif choice == 'y':\n",
        "          try:\n",
        "              size = float(input(\"Enter a shoe size: \"))\n",
        "              model_choice = int(input(\"Choose a model (Option 1 - JSON, Option 2 - Pickle): \"))\n",
        "              if model_choice not in [1, 2]:\n",
        "                  print(\"Invalid option...\")\n",
        "                  continue\n",
        "              predicted_price = test_model(size, model_choice)\n",
        "              print(f\"Price prediction: ${predicted_price:.2f}\")\n",
        "          except ValueError:\n",
        "              print(\"Invalid shoe size...\")\n",
        "      else:\n",
        "          print(\"Invalid option...\")\n",
        "\n",
        "  print(\"Program terminated.\")\n",
        "\n",
        "main()"
      ],
      "metadata": {
        "colab": {
          "base_uri": "https://localhost:8080/"
        },
        "id": "HK-4PuJiVVDF",
        "outputId": "b516cb3c-9100-4dc7-f796-9ae43cf8a6f4"
      },
      "execution_count": 6,
      "outputs": [
        {
          "output_type": "stream",
          "name": "stdout",
          "text": [
            "Run program? (Y/N): y\n",
            "Enter a shoe size: 10\n",
            "Choose a model (Option 1 - JSON, Option 2 - Pickle): 2\n",
            "Price prediction: $100.00\n",
            "Run program? (Y/N): y\n",
            "Enter a shoe size: 2.5\n",
            "Choose a model (Option 1 - JSON, Option 2 - Pickle): 1\n",
            "Price prediction: $25.00\n",
            "Run program? (Y/N): n\n",
            "Program terminated.\n"
          ]
        }
      ]
    }
  ]
}