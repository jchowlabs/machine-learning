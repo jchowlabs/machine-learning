{
  "nbformat": 4,
  "nbformat_minor": 0,
  "metadata": {
    "colab": {
      "provenance": []
    },
    "kernelspec": {
      "name": "python3",
      "display_name": "Python 3"
    },
    "language_info": {
      "name": "python"
    }
  },
  "cells": [
    {
      "cell_type": "code",
      "execution_count": null,
      "metadata": {
        "colab": {
          "base_uri": "https://localhost:8080/"
        },
        "id": "hDC9Qi7Mgnoh",
        "outputId": "78a87361-7706-47c9-8b46-5663d6d413b2"
      },
      "outputs": [
        {
          "output_type": "stream",
          "name": "stdout",
          "text": [
            "Accuracy: 0.00\n",
            "\n",
            "Classification Report:\n",
            "               precision    recall  f1-score   support\n",
            "\n",
            "           2       0.00      0.00      0.00       1.0\n",
            "           4       0.00      0.00      0.00       0.0\n",
            "\n",
            "    accuracy                           0.00       1.0\n",
            "   macro avg       0.00      0.00      0.00       1.0\n",
            "weighted avg       0.00      0.00      0.00       1.0\n",
            "\n"
          ]
        },
        {
          "output_type": "stream",
          "name": "stderr",
          "text": [
            "/usr/local/lib/python3.10/dist-packages/sklearn/metrics/_classification.py:1344: UndefinedMetricWarning: Precision and F-score are ill-defined and being set to 0.0 in labels with no predicted samples. Use `zero_division` parameter to control this behavior.\n",
            "  _warn_prf(average, modifier, msg_start, len(result))\n",
            "/usr/local/lib/python3.10/dist-packages/sklearn/metrics/_classification.py:1344: UndefinedMetricWarning: Recall and F-score are ill-defined and being set to 0.0 in labels with no true samples. Use `zero_division` parameter to control this behavior.\n",
            "  _warn_prf(average, modifier, msg_start, len(result))\n",
            "/usr/local/lib/python3.10/dist-packages/sklearn/metrics/_classification.py:1344: UndefinedMetricWarning: Precision and F-score are ill-defined and being set to 0.0 in labels with no predicted samples. Use `zero_division` parameter to control this behavior.\n",
            "  _warn_prf(average, modifier, msg_start, len(result))\n",
            "/usr/local/lib/python3.10/dist-packages/sklearn/metrics/_classification.py:1344: UndefinedMetricWarning: Recall and F-score are ill-defined and being set to 0.0 in labels with no true samples. Use `zero_division` parameter to control this behavior.\n",
            "  _warn_prf(average, modifier, msg_start, len(result))\n",
            "/usr/local/lib/python3.10/dist-packages/sklearn/metrics/_classification.py:1344: UndefinedMetricWarning: Precision and F-score are ill-defined and being set to 0.0 in labels with no predicted samples. Use `zero_division` parameter to control this behavior.\n",
            "  _warn_prf(average, modifier, msg_start, len(result))\n",
            "/usr/local/lib/python3.10/dist-packages/sklearn/metrics/_classification.py:1344: UndefinedMetricWarning: Recall and F-score are ill-defined and being set to 0.0 in labels with no true samples. Use `zero_division` parameter to control this behavior.\n",
            "  _warn_prf(average, modifier, msg_start, len(result))\n"
          ]
        }
      ],
      "source": [
        "# Import necessary libraries\n",
        "import pandas as pd\n",
        "from sklearn.model_selection import train_test_split\n",
        "from sklearn.ensemble import RandomForestClassifier\n",
        "from sklearn.metrics import accuracy_score, classification_report\n",
        "\n",
        "# Create a synthetic dataset (replace this with your actual dataset)\n",
        "data = {\n",
        "    'User ID': [1, 2, 3, 4, 5],\n",
        "    'Dwell Time': [120, 90, 110, 100, 130],\n",
        "    'Flight Time': [50, 40, 45, 55, 60],\n",
        "    'Key Hold Time': [150, 120, 130, 110, 140],\n",
        "    'WPM': [80, 100, 75, 90, 85],\n",
        "    'CPM': [300, 350, 280, 320, 300],\n",
        "    'Typos': [5, 3, 7, 4, 6],\n",
        "    'Backspace (%)': [2.5, 1.8, 3.0, 2.0, 2.8],\n",
        "    'Avg Key Pressure': [0.8, 1.2, 0.9, 1.0, 1.1],\n",
        "    'Regularity': [20, 15, 25, 18, 22],\n",
        "    'Pause Duration': [300, 250, 350, 320, 300],\n",
        "    'Common Key Sequence': ['qwerty', 'asdfgh', 'zxcvbn', 'qazwsx', 'poiuyt'],\n",
        "    'Task Type': ['Document', 'Coding', 'Document', 'Coding', 'Document'],\n",
        "    'Device Type': ['Laptop', 'Desktop', 'Laptop', 'Desktop', 'Laptop']\n",
        "}\n",
        "\n",
        "df = pd.DataFrame(data)\n",
        "\n",
        "# Convert categorical variables to numerical using one-hot encoding\n",
        "df = pd.get_dummies(df, columns=['Common Key Sequence', 'Task Type', 'Device Type'])\n",
        "\n",
        "# Define features and target variable\n",
        "features = df.drop(['User ID'], axis=1)  # Exclude User ID from features\n",
        "target = df['User ID']\n",
        "\n",
        "# Split the dataset into training and testing sets\n",
        "X_train, X_test, y_train, y_test = train_test_split(features, target, test_size=0.2, random_state=42)\n",
        "\n",
        "# Initialize the Random Forest classifier\n",
        "clf = RandomForestClassifier(n_estimators=100, random_state=42)\n",
        "\n",
        "# Train the classifier\n",
        "clf.fit(X_train, y_train)\n",
        "\n",
        "# Make predictions on the test set\n",
        "y_pred = clf.predict(X_test)\n",
        "\n",
        "# Evaluate the model\n",
        "accuracy = accuracy_score(y_test, y_pred)\n",
        "report = classification_report(y_test, y_pred)\n",
        "\n",
        "# Print results\n",
        "print(f'Accuracy: {accuracy:.2f}')\n",
        "print('\\nClassification Report:\\n', report)\n"
      ]
    },
    {
      "cell_type": "markdown",
      "source": [
        "# Logistics Regression based on time series data."
      ],
      "metadata": {
        "id": "l2ASSCmn29tX"
      }
    },
    {
      "cell_type": "code",
      "source": [
        "import numpy as np\n",
        "from sklearn.model_selection import train_test_split\n",
        "from sklearn.linear_model import LogisticRegression\n",
        "from sklearn.metrics import accuracy_score\n",
        "\n",
        "# Sample dataset (replace this with your actual dataset)\n",
        "# Each row represents a user's typing pattern for the given phrase\n",
        "# The last column is the user label\n",
        "data = [\n",
        "    [0.1, 0.2, 0.3, 0.4, 0.5, 0.6, 0.7, 0.8, 0.9, 1.0, \"UserA\"],\n",
        "    [0.2, 0.3, 0.4, 0.5, 0.6, 0.7, 0.8, 0.9, 1.0, 1.1, \"UserB\"],\n",
        "    # Add more rows for additional users\n",
        "]\n",
        "\n",
        "# Convert the dataset to a numpy array\n",
        "data = np.array(data)\n",
        "\n",
        "# Extract features (time taken to type each character) and labels (user names)\n",
        "X = data[:, :-1].astype(float)\n",
        "y = data[:, -1]\n",
        "\n",
        "# Split the dataset into training and testing sets\n",
        "X_train, X_test, y_train, y_test = train_test_split(X, y, test_size=0.2, random_state=42)\n",
        "\n",
        "# Train a Logistic Regression model\n",
        "model = LogisticRegression()\n",
        "model.fit(X_train, y_train)\n",
        "\n",
        "# Make predictions on the test set\n",
        "y_pred = model.predict(X_test)\n",
        "\n",
        "# Evaluate the accuracy of the model\n",
        "accuracy = accuracy_score(y_test, y_pred)\n",
        "print(f\"Accuracy: {accuracy}\")\n",
        "\n",
        "# Now, you can use this trained model to predict the user based on new typing patterns.\n"
      ],
      "metadata": {
        "id": "LJxUyCmW28T9"
      },
      "execution_count": null,
      "outputs": []
    },
    {
      "cell_type": "markdown",
      "source": [
        "# LSTM based on time series data."
      ],
      "metadata": {
        "id": "G0SiVeAI3FDM"
      }
    },
    {
      "cell_type": "code",
      "source": [
        "import numpy as np\n",
        "from sklearn.model_selection import train_test_split\n",
        "from sklearn.preprocessing import LabelEncoder\n",
        "from keras.models import Sequential\n",
        "from keras.layers import LSTM, Dense, Embedding\n",
        "\n",
        "# Sample dataset (replace this with your actual dataset)\n",
        "data = [\n",
        "    [0.1, 0.2, 0.3, 0.4, 0.5, 0.6, 0.7, 0.8, 0.9, 1.0, \"UserA\"],\n",
        "    [0.2, 0.3, 0.4, 0.5, 0.6, 0.7, 0.8, 0.9, 1.0, 1.1, \"UserB\"],\n",
        "    # Add more rows for additional users\n",
        "]\n",
        "\n",
        "# Convert the dataset to a numpy array\n",
        "data = np.array(data)\n",
        "\n",
        "# Extract features (time taken to type each character) and labels (user names)\n",
        "X = data[:, :-1].astype(float)\n",
        "y = data[:, -1]\n",
        "\n",
        "# Encode user labels\n",
        "label_encoder = LabelEncoder()\n",
        "y_encoded = label_encoder.fit_transform(y)\n",
        "\n",
        "# Split the dataset into training and testing sets\n",
        "X_train, X_test, y_train, y_test = train_test_split(X, y_encoded, test_size=0.2, random_state=42)\n",
        "\n",
        "# Reshape data for LSTM input (samples, time steps, features)\n",
        "X_train = X_train.reshape((X_train.shape[0], 1, X_train.shape[1]))\n",
        "X_test = X_test.reshape((X_test.shape[0], 1, X_test.shape[1]))\n",
        "\n",
        "# Build LSTM model\n",
        "model = Sequential()\n",
        "model.add(LSTM(50, input_shape=(X_train.shape[1], X_train.shape[2])))\n",
        "model.add(Dense(1, activation='sigmoid'))\n",
        "model.compile(loss='binary_crossentropy', optimizer='adam', metrics=['accuracy'])\n",
        "\n",
        "# Train the model\n",
        "model.fit(X_train, y_train, epochs=10, batch_size=1, validation_data=(X_test, y_test))\n",
        "\n",
        "# Evaluate the model\n",
        "_, accuracy = model.evaluate(X_test, y_test)\n",
        "print(f\"Accuracy: {accuracy}\")\n",
        "\n",
        "# Now, you can use this trained LSTM model to predict the user based on new typing patterns.\n"
      ],
      "metadata": {
        "colab": {
          "base_uri": "https://localhost:8080/"
        },
        "id": "Nn0XHuSa2yhO",
        "outputId": "2616bc44-aa08-477b-dc75-ac8888ba2d66"
      },
      "execution_count": null,
      "outputs": [
        {
          "output_type": "stream",
          "name": "stdout",
          "text": [
            "Epoch 1/10\n",
            "1/1 [==============================] - 12s 12s/step - loss: 0.7332 - accuracy: 0.0000e+00 - val_loss: 0.6594 - val_accuracy: 1.0000\n",
            "Epoch 2/10\n",
            "1/1 [==============================] - 0s 77ms/step - loss: 0.7243 - accuracy: 0.0000e+00 - val_loss: 0.6690 - val_accuracy: 1.0000\n",
            "Epoch 3/10\n",
            "1/1 [==============================] - 0s 197ms/step - loss: 0.7154 - accuracy: 0.0000e+00 - val_loss: 0.6787 - val_accuracy: 1.0000\n",
            "Epoch 4/10\n",
            "1/1 [==============================] - 0s 180ms/step - loss: 0.7067 - accuracy: 0.0000e+00 - val_loss: 0.6885 - val_accuracy: 1.0000\n",
            "Epoch 5/10\n",
            "1/1 [==============================] - 0s 130ms/step - loss: 0.6980 - accuracy: 0.0000e+00 - val_loss: 0.6983 - val_accuracy: 0.0000e+00\n",
            "Epoch 6/10\n",
            "1/1 [==============================] - 0s 152ms/step - loss: 0.6894 - accuracy: 1.0000 - val_loss: 0.7083 - val_accuracy: 0.0000e+00\n",
            "Epoch 7/10\n",
            "1/1 [==============================] - 0s 163ms/step - loss: 0.6809 - accuracy: 1.0000 - val_loss: 0.7183 - val_accuracy: 0.0000e+00\n",
            "Epoch 8/10\n",
            "1/1 [==============================] - 0s 134ms/step - loss: 0.6724 - accuracy: 1.0000 - val_loss: 0.7284 - val_accuracy: 0.0000e+00\n",
            "Epoch 9/10\n",
            "1/1 [==============================] - 0s 132ms/step - loss: 0.6641 - accuracy: 1.0000 - val_loss: 0.7387 - val_accuracy: 0.0000e+00\n",
            "Epoch 10/10\n",
            "1/1 [==============================] - 0s 160ms/step - loss: 0.6558 - accuracy: 1.0000 - val_loss: 0.7490 - val_accuracy: 0.0000e+00\n",
            "1/1 [==============================] - 3s 3s/step - loss: 0.7490 - accuracy: 0.0000e+00\n",
            "Accuracy: 0.0\n"
          ]
        }
      ]
    }
  ]
}