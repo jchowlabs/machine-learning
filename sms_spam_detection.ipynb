{
  "nbformat": 4,
  "nbformat_minor": 0,
  "metadata": {
    "colab": {
      "provenance": []
    },
    "kernelspec": {
      "name": "python3",
      "display_name": "Python 3"
    },
    "language_info": {
      "name": "python"
    }
  },
  "cells": [
    {
      "cell_type": "code",
      "execution_count": 1,
      "metadata": {
        "colab": {
          "base_uri": "https://localhost:8080/"
        },
        "id": "EhdXZ6uerLPs",
        "outputId": "d7b34be8-642d-4f3c-9008-5a8e3c9fc6e7"
      },
      "outputs": [
        {
          "output_type": "stream",
          "name": "stdout",
          "text": [
            "Package importing completed...\n"
          ]
        }
      ],
      "source": [
        "import numpy as np\n",
        "import pandas as pd\n",
        "import matplotlib.pyplot as plt\n",
        "import seaborn as sns\n",
        "import tensorflow as tf\n",
        "from tensorflow import keras\n",
        "from tensorflow.keras import layers\n",
        "from tensorflow.keras.layers import TextVectorization\n",
        "from sklearn.model_selection import train_test_split\n",
        "from sklearn.preprocessing import MinMaxScaler\n",
        "from sklearn.feature_extraction.text import TfidfVectorizer\n",
        "from sklearn.naive_bayes import MultinomialNB\n",
        "from sklearn.metrics import classification_report, accuracy_score\n",
        "from sklearn.metrics import precision_score, recall_score, f1_score\n",
        "from sklearn.metrics import confusion_matrix\n",
        "\n",
        "print(\"Package importing completed...\")"
      ]
    },
    {
      "cell_type": "code",
      "source": [
        "# Kaggle dataset: https://www.kaggle.com/datasets/uciml/sms-spam-collection-dataset/data\n",
        "\n",
        "data = pd.read_csv(\"/content/spam.csv\", encoding='latin-1')\n",
        "print(\"Dataset importing completed...\")\n",
        "\n",
        "#Preview dataset\n",
        "print(\"---------\")\n",
        "print(\"| Shape |\")\n",
        "print(\"---------\")\n",
        "print(data.shape)"
      ],
      "metadata": {
        "colab": {
          "base_uri": "https://localhost:8080/"
        },
        "id": "qZt1bzhSspxh",
        "outputId": "74440e52-eb96-4a3c-a8f4-b8055065c60c"
      },
      "execution_count": 2,
      "outputs": [
        {
          "output_type": "stream",
          "name": "stdout",
          "text": [
            "Dataset importing completed...\n",
            "---------\n",
            "| Shape |\n",
            "---------\n",
            "(5572, 2)\n"
          ]
        }
      ]
    },
    {
      "cell_type": "code",
      "source": [
        "# Preview dataset\n",
        "print(data.head)"
      ],
      "metadata": {
        "colab": {
          "base_uri": "https://localhost:8080/"
        },
        "id": "-T476QTeunZY",
        "outputId": "39da39dd-740a-4939-f1e4-427de38b14fc"
      },
      "execution_count": 3,
      "outputs": [
        {
          "output_type": "stream",
          "name": "stdout",
          "text": [
            "<bound method NDFrame.head of         v1                                                 v2\n",
            "0      ham  Go until jurong point, crazy.. Available only ...\n",
            "1      ham                      Ok lar... Joking wif u oni...\n",
            "2     spam  Free entry in 2 a wkly comp to win FA Cup fina...\n",
            "3      ham  U dun say so early hor... U c already then say...\n",
            "4      ham  Nah I don't think he goes to usf, he lives aro...\n",
            "...    ...                                                ...\n",
            "5567  spam  This is the 2nd time we have tried 2 contact u...\n",
            "5568   ham             Will Ã_ b going to esplanade fr home?\n",
            "5569   ham  Pity, * was in mood for that. So...any other s...\n",
            "5570   ham  The guy did some bitching but I acted like i'd...\n",
            "5571   ham                         Rofl. Its true to its name\n",
            "\n",
            "[5572 rows x 2 columns]>\n"
          ]
        }
      ]
    },
    {
      "cell_type": "code",
      "source": [
        "# Renaming column heads\n",
        "data = data.rename(columns={'v1':'Label', 'v2':'Text'})\n",
        "data['Target'] = data['Label'].map({'Valid':0, 'Spam':1})\n",
        "print(\"Updated column head names completed...\")"
      ],
      "metadata": {
        "colab": {
          "base_uri": "https://localhost:8080/"
        },
        "id": "PTwoYYMyxC2Z",
        "outputId": "1ad1a0fb-8c7b-4238-f0d8-9cbec9501d21"
      },
      "execution_count": 4,
      "outputs": [
        {
          "output_type": "stream",
          "name": "stdout",
          "text": [
            "Updated column head names completed...\n"
          ]
        }
      ]
    },
    {
      "cell_type": "code",
      "source": [
        "# Visualize distribution of data\n",
        "sns.countplot(x=data['Label'])\n",
        "plt.show()"
      ],
      "metadata": {
        "colab": {
          "base_uri": "https://localhost:8080/",
          "height": 450
        },
        "id": "AjFgU683wx1Z",
        "outputId": "301a6a7c-9c3c-492e-c9f6-9e71232cc99e"
      },
      "execution_count": 5,
      "outputs": [
        {
          "output_type": "display_data",
          "data": {
            "text/plain": [
              "<Figure size 640x480 with 1 Axes>"
            ],
            "image/png": "[encoded data removed]"
          },
          "metadata": {}
        }
      ]
    },
    {
      "cell_type": "code",
      "source": [
        "# Calculate average number of words in each SMS message\n",
        "average_word_count = round(sum([len(i.split()) for i in data['Text']])/len(data['Text']))\n",
        "print(\"Average word count: \", average_word_count)"
      ],
      "metadata": {
        "colab": {
          "base_uri": "https://localhost:8080/"
        },
        "id": "Rln3bLAoPX1_",
        "outputId": "289a7db9-8c10-4514-c65f-f0e6ca4ba4ec"
      },
      "execution_count": 6,
      "outputs": [
        {
          "output_type": "stream",
          "name": "stdout",
          "text": [
            "Average word count:  15\n"
          ]
        }
      ]
    },
    {
      "cell_type": "code",
      "source": [
        "# Calculate total number of unique words in each SMS message\n",
        "unique_words = set()\n",
        "for i in data['Text']:\n",
        "  for j in i.split():\n",
        "    unique_words.add(j)\n",
        "total_unique_words = len(unique_words)\n",
        "print(\"Total unique words: \", total_unique_words)"
      ],
      "metadata": {
        "colab": {
          "base_uri": "https://localhost:8080/"
        },
        "id": "6tsX7ylTQt8G",
        "outputId": "dc7015d5-d129-4a16-de88-62543d0a0fb5"
      },
      "execution_count": 7,
      "outputs": [
        {
          "output_type": "stream",
          "name": "stdout",
          "text": [
            "Total unique words:  15585\n"
          ]
        }
      ]
    },
    {
      "cell_type": "code",
      "source": [
        "# Split data into training and validation using 75% train and 25% test ratio\n",
        "xData = np.asanyarray(data['Text'])\n",
        "yData = np.asanyarray(data['Label'])\n",
        "labeled_data = pd.DataFrame({'Text': xData, 'Label': yData})\n",
        "xTrain, xTest, yTrain, yTest = train_test_split(labeled_data['Text'], labeled_data['Label'], test_size=0.25, random_state=3045)\n",
        "print(\"Training and test dataset split completed...\")"
      ],
      "metadata": {
        "colab": {
          "base_uri": "https://localhost:8080/"
        },
        "id": "FerbTvhzRqvG",
        "outputId": "61284d54-8c32-4c24-8353-d0d54084d890"
      },
      "execution_count": 8,
      "outputs": [
        {
          "output_type": "stream",
          "name": "stdout",
          "text": [
            "Training and test dataset split completed...\n"
          ]
        }
      ]
    },
    {
      "cell_type": "code",
      "source": [
        "# Training model using MultinomialNB\n",
        "tfidf_vectorized = TfidfVectorizer().fit(xTrain)\n",
        "xTrain_vectorized, xTest_vectorized = tfidf_vectorized.transform(xTrain), tfidf_vectorized.transform(xTest)\n",
        "\n",
        "model = MultinomialNB()\n",
        "model.fit(xTrain_vectorized, yTrain)\n",
        "prediction = model.predict(xTest_vectorized)\n",
        "print(\"Model training completed...\")"
      ],
      "metadata": {
        "colab": {
          "base_uri": "https://localhost:8080/"
        },
        "id": "F41xo0INhEbl",
        "outputId": "9ad34fa3-1f58-4a4e-9ae9-0ebdaae872c7"
      },
      "execution_count": 9,
      "outputs": [
        {
          "output_type": "stream",
          "name": "stdout",
          "text": [
            "Model training completed...\n"
          ]
        }
      ]
    },
    {
      "cell_type": "code",
      "source": [
        "# Model evaluation\n",
        "print(\"------------------\")\n",
        "print(\"| Model Accuracy |\")\n",
        "print(\"------------------\")\n",
        "\n",
        "# Accuracy Score\n",
        "accuracy = accuracy_score(yTest, prediction)\n",
        "print(\"Accuracy: \", accuracy)"
      ],
      "metadata": {
        "colab": {
          "base_uri": "https://localhost:8080/"
        },
        "id": "SqFndSh1hxrF",
        "outputId": "9ab52500-bdb8-47d9-8a37-ebcf234b84e9"
      },
      "execution_count": 10,
      "outputs": [
        {
          "output_type": "stream",
          "name": "stdout",
          "text": [
            "------------------\n",
            "| Model Accuracy |\n",
            "------------------\n",
            "Accuracy:  0.9443946188340807\n"
          ]
        }
      ]
    },
    {
      "cell_type": "code",
      "source": [
        "# Model evaluation\n",
        "print(\"-------------------------\")\n",
        "print(\"| Classification Report |\")\n",
        "print(\"-------------------------\")\n",
        "\n",
        "report = classification_report(yTest, prediction)\n",
        "print(\"Classification Report: \")\n",
        "print(report)"
      ],
      "metadata": {
        "colab": {
          "base_uri": "https://localhost:8080/"
        },
        "id": "IPsQ7jaxjpL_",
        "outputId": "47cbc707-eec2-4753-cc2c-b72fe5cca3cc"
      },
      "execution_count": 11,
      "outputs": [
        {
          "output_type": "stream",
          "name": "stdout",
          "text": [
            "-------------------------\n",
            "| Classification Report |\n",
            "-------------------------\n",
            "Classification Report: \n",
            "              precision    recall  f1-score   support\n",
            "\n",
            "         ham       0.94      1.00      0.97       947\n",
            "        spam       1.00      0.63      0.77       168\n",
            "\n",
            "    accuracy                           0.94      1115\n",
            "   macro avg       0.97      0.82      0.87      1115\n",
            "weighted avg       0.95      0.94      0.94      1115\n",
            "\n"
          ]
        }
      ]
    },
    {
      "cell_type": "code",
      "source": [
        "# Model evaluation\n",
        "print(\"--------------------\")\n",
        "print(\"| Confusion Matrix |\")\n",
        "print(\"--------------------\")\n",
        "\n",
        "cm = confusion_matrix(yTest, prediction)\n",
        "plt.figure(figsize = (10,10))\n",
        "labels = ['True Class', 'Predicted Class']\n",
        "sns.heatmap(cm, xticklabels = labels, yticklabels = labels, annot = True, fmt = 'd')\n",
        "plt.title(\"Confusion Matrix\")\n",
        "plt.ylabel(\"True Class\")\n",
        "plt.xlabel(\"Predicted Class\")\n",
        "plt.show()"
      ],
      "metadata": {
        "colab": {
          "base_uri": "https://localhost:8080/",
          "height": 924
        },
        "id": "5A-OvrEllkQG",
        "outputId": "51aedac8-f3cd-4894-d22a-90b79c0130ee"
      },
      "execution_count": 12,
      "outputs": [
        {
          "output_type": "stream",
          "name": "stdout",
          "text": [
            "--------------------\n",
            "| Confusion Matrix |\n",
            "--------------------\n"
          ]
        },
        {
          "output_type": "display_data",
          "data": {
            "text/plain": [
              "<Figure size 1000x1000 with 2 Axes>"
            ],
            "image/png": "[encoded data removed]"
          },
          "metadata": {}
        }
      ]
    }
  ]
}