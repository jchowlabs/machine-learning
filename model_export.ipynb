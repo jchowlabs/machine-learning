{
  "cells": [
    {
      "cell_type": "code",
      "execution_count": 16,
      "metadata": {
        "colab": {
          "base_uri": "https://localhost:8080/"
        },
        "id": "5ge8o0Ji46m6",
        "outputId": "9f18adb3-5a17-4363-a563-b51ed664c371"
      },
      "outputs": [
        {
          "name": "stdout",
          "output_type": "stream",
          "text": [
            "Model created and exported to JSON and Pickle files.\n",
            "Run program? (Y/N): Y\n",
            "Enter a shoe size: 10\n",
            "Choose a model (Option 1 - JSON, Option 2 - Pickle): 1\n",
            "Predicted price for shoe size 10.0: $100.00\n",
            "Run program? (Y/N): Y\n",
            "Enter a shoe size: 9.5\n",
            "Choose a model (Option 1 - JSON, Option 2 - Pickle): 2\n",
            "Predicted price for shoe size 9.5: $95.00\n",
            "Run program? (Y/N): N\n",
            "Program terminated.\n"
          ]
        }
      ],
      "source": [
        "import pandas as pd\n",
        "import numpy as np\n",
        "from sklearn.model_selection import train_test_split\n",
        "from sklearn.linear_model import LinearRegression\n",
        "import json\n",
        "import pickle\n",
        "\n",
        "# Sample dataset (you should replace this with your own data)\n",
        "data = {'ShoeSize': [6, 7, 8, 9, 10, 11, 12, 13], 'Price': [50, 60, 70, 80, 90, 100, 110, 120]}\n",
        "\n",
        "# Create a DataFrame from the dataset\n",
        "df = pd.DataFrame(data)\n",
        "\n",
        "# Split the data into features (X) and the target variable (y)\n",
        "X = df[['ShoeSize']]\n",
        "y = df['Price']\n",
        "\n",
        "# Split the data into training and testing sets\n",
        "X_train, X_test, y_train, y_test = train_test_split(X, y, test_size=0.2, random_state=42)\n",
        "\n",
        "# Fit model using linear regression algorithm\n",
        "model = LinearRegression()\n",
        "model.fit(X_train, y_train)\n",
        "\n",
        "# Exports model to JSON file format\n",
        "model_json = model.coef_.tolist()\n",
        "with open(\"linear_regression_model.json\", \"w\") as json_file:\n",
        "    json.dump(model_json, json_file)\n",
        "\n",
        "# Exports model to Pickle file format\n",
        "with open(\"linear_regression_model.pkl\", \"wb\") as pickle_file:\n",
        "    pickle.dump(model, pickle_file)\n",
        "\n",
        "print(\"Model created and exported to JSON and Pickle files.\")\n",
        "\n",
        "# Parameterizes function with model and shoe size for prediction\n",
        "def test_model(size, model_choice):\n",
        "\n",
        "    # JSON model\n",
        "    if model_choice == 1:\n",
        "        with open(\"linear_regression_model.json\", \"r\") as json_file:\n",
        "            model_json = json.load(json_file)\n",
        "        coef = np.array(model_json)\n",
        "\n",
        "    # Pickle model\n",
        "    elif model_choice == 2:\n",
        "        with open(\"linear_regression_model.pkl\", \"rb\") as pickle_file:\n",
        "            model = pickle.load(pickle_file)\n",
        "        coef = model.coef_\n",
        "\n",
        "    price = coef * size\n",
        "    return price[0]\n",
        "\n",
        "def main():\n",
        "\n",
        "  # Run program\n",
        "  while True:\n",
        "      choice = input(\"Run program? (Y/N): \").strip().lower()\n",
        "      if choice == 'n':\n",
        "          break\n",
        "      elif choice == 'y':\n",
        "          try:\n",
        "              size = float(input(\"Enter a shoe size: \"))\n",
        "              model_choice = int(input(\"Choose a model (Option 1 - JSON, Option 2 - Pickle): \"))\n",
        "              if model_choice not in [1, 2]:\n",
        "                  print(\"Invalid option. Please choose again.\")\n",
        "                  continue\n",
        "              predicted_price = test_model(size, model_choice)\n",
        "              print(f\"Predicted price for shoe size {size}: ${predicted_price:.2f}\")\n",
        "          except ValueError:\n",
        "              print(\"Invalid input. Please enter valid shoe size.\")\n",
        "      else:\n",
        "          print(\"Invalid choice. Please enter 'Y' to continue or 'N' to terminate.\")\n",
        "\n",
        "  print(\"Program terminated.\")\n",
        "\n",
        "main()"
      ]
    }
  ],
  "metadata": {
    "colab": {
      "provenance": []
    },
    "kernelspec": {
      "display_name": "Python 3",
      "name": "python3"
    },
    "language_info": {
      "name": "python"
    }
  },
  "nbformat": 4,
  "nbformat_minor": 0
}
